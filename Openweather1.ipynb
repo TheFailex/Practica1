{
 "cells": [
  {
   "cell_type": "code",
   "execution_count": null,
   "metadata": {
    "id": "K5_glBfsm_O9"
   },
   "outputs": [],
   "source": []
  },
  {
   "cell_type": "code",
   "execution_count": 1,
   "metadata": {
    "colab": {
     "base_uri": "https://localhost:8080/"
    },
    "id": "nbjnKllDNTPO",
    "outputId": "0ae07b90-7f00-4a33-e32b-d2e885449c19"
   },
   "outputs": [
    {
     "name": "stdout",
     "output_type": "stream",
     "text": [
      "http://api.openweathermap.org/data/2.5/weather?q=Alicante,ES&mode=json&units=metric&APPID=43ff38c0d6963fb8f48e4594df8bf08b\n",
      "{'coord': {'lon': -0.4815, 'lat': 38.3452}, 'weather': [{'id': 801, 'main': 'Clouds', 'description': 'few clouds', 'icon': '02d'}], 'base': 'stations', 'main': {'temp': 14.38, 'feels_like': 13.86, 'temp_min': 12.06, 'temp_max': 17.13, 'pressure': 1028, 'humidity': 76}, 'visibility': 10000, 'wind': {'speed': 1.54, 'deg': 130}, 'clouds': {'all': 20}, 'dt': 1644497108, 'sys': {'type': 1, 'id': 6391, 'country': 'ES', 'sunrise': 1644476311, 'sunset': 1644514436}, 'timezone': 3600, 'id': 2521978, 'name': 'Alicante', 'cod': 200}\n",
      "2022-02-10 14:47:27.753863\n",
      "temp : 14.38\n",
      "feels_like : 13.86\n",
      "temp_min : 12.06\n",
      "temp_max : 17.13\n",
      "pressure : 1028\n",
      "humidity : 76\n",
      "speed : 1.54\n",
      "deg : 130\n",
      "all : 20\n",
      "type : 1\n",
      "id : 6391\n",
      "country : ES\n",
      "sunrise : 1644476311\n",
      "sunset : 1644514436\n",
      "08:01 AM\n",
      "07:58 AM\n",
      "06:33 PM\n"
     ]
    }
   ],
   "source": [
    "import datetime\n",
    "import json\n",
    "import urllib.request\n",
    "\n",
    "def time_converter(time):\n",
    "    converted_time = datetime.datetime.fromtimestamp(\n",
    "        int(time)\n",
    "    ).strftime('%I:%M %p')\n",
    "    return converted_time\n",
    "\n",
    "def url_builder1(city):\n",
    "    user_api = '43ff38c0d6963fb8f48e4594df8bf08b'  # Obtain yours form: http://openweathermap.org/\n",
    "    unit = 'metric'  # For Fahrenheit use imperial, for Celsius use metric, and the default is Kelvin.\n",
    "    api = 'http://api.openweathermap.org/data/2.5/weather?q='     # Search for your city ID here: http://bulk.openweathermap.org/sample/city.list.json.gz\n",
    "    full_api_url = api + str(city) + '&mode=json&units=' + unit + '&APPID=' + user_api\n",
    "    print(full_api_url)\n",
    "    return full_api_url\n",
    "\n",
    "def data_fetch(full_api_url):\n",
    "    url = urllib.request.urlopen(full_api_url)\n",
    "    output = url.read().decode('utf-8')\n",
    "    raw_api_dict = json.loads(output)\n",
    "    url.close()\n",
    "    #print(raw_api_dict)\n",
    "    return raw_api_dict\n",
    "\n",
    "if __name__ == '__main__':\n",
    "    try:\n",
    "        now=datetime.datetime.now()\n",
    "        datos=data_fetch(url_builder1('Alicante,ES'))\n",
    "        print(datos)\n",
    "        print(now)\n",
    "        for key in datos['main']:\n",
    "          print(key, \":\", datos['main'][key])\n",
    "        for key in datos['wind']:\n",
    "          print(key, \":\", datos['wind'][key])\n",
    "        for key in datos['clouds']:\n",
    "          print(key, \":\", datos['clouds'][key])\n",
    "        for key in datos['sys']:\n",
    "          print(key, \":\", datos['sys'][key])\n",
    "        print(time_converter(1612681284))\n",
    "        print(time_converter(datos['sys']['sunrise']))\n",
    "        print(time_converter(datos['sys']['sunset']))\n",
    "    except IOError:\n",
    "        print('error')\n",
    "\n"
   ]
  },
  {
   "cell_type": "code",
   "execution_count": null,
   "metadata": {},
   "outputs": [],
   "source": []
  }
 ],
 "metadata": {
  "colab": {
   "collapsed_sections": [],
   "name": "openweather1.ipynb",
   "provenance": []
  },
  "kernelspec": {
   "display_name": "Python 3 (ipykernel)",
   "language": "python",
   "name": "python3"
  },
  "language_info": {
   "codemirror_mode": {
    "name": "ipython",
    "version": 3
   },
   "file_extension": ".py",
   "mimetype": "text/x-python",
   "name": "python",
   "nbconvert_exporter": "python",
   "pygments_lexer": "ipython3",
   "version": "3.8.10"
  }
 },
 "nbformat": 4,
 "nbformat_minor": 1
}
